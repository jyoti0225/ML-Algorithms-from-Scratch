{
 "cells": [
  {
   "cell_type": "code",
   "execution_count": 1,
   "metadata": {},
   "outputs": [],
   "source": [
    "#Importing Libraries\n",
    "import numpy as np\n",
    "import pandas as pd\n",
    "import matplotlib.pyplot as plt\n",
    "%matplotlib inline\n",
    "import seaborn as sns\n",
    "import random\n",
    "from pprint import pprint\n",
    "from sklearn.datasets import load_iris"
   ]
  },
  {
   "cell_type": "code",
   "execution_count": 2,
   "metadata": {},
   "outputs": [
    {
     "data": {
      "text/html": [
       "<div>\n",
       "<style scoped>\n",
       "    .dataframe tbody tr th:only-of-type {\n",
       "        vertical-align: middle;\n",
       "    }\n",
       "\n",
       "    .dataframe tbody tr th {\n",
       "        vertical-align: top;\n",
       "    }\n",
       "\n",
       "    .dataframe thead th {\n",
       "        text-align: right;\n",
       "    }\n",
       "</style>\n",
       "<table border=\"1\" class=\"dataframe\">\n",
       "  <thead>\n",
       "    <tr style=\"text-align: right;\">\n",
       "      <th></th>\n",
       "      <th>sepal_length</th>\n",
       "      <th>sepal_width</th>\n",
       "      <th>petal_length</th>\n",
       "      <th>petal_width</th>\n",
       "      <th>label</th>\n",
       "    </tr>\n",
       "  </thead>\n",
       "  <tbody>\n",
       "    <tr>\n",
       "      <th>0</th>\n",
       "      <td>5.1</td>\n",
       "      <td>3.5</td>\n",
       "      <td>1.4</td>\n",
       "      <td>0.2</td>\n",
       "      <td>Iris-setosa</td>\n",
       "    </tr>\n",
       "    <tr>\n",
       "      <th>1</th>\n",
       "      <td>4.9</td>\n",
       "      <td>3.0</td>\n",
       "      <td>1.4</td>\n",
       "      <td>0.2</td>\n",
       "      <td>Iris-setosa</td>\n",
       "    </tr>\n",
       "    <tr>\n",
       "      <th>2</th>\n",
       "      <td>4.7</td>\n",
       "      <td>3.2</td>\n",
       "      <td>1.3</td>\n",
       "      <td>0.2</td>\n",
       "      <td>Iris-setosa</td>\n",
       "    </tr>\n",
       "    <tr>\n",
       "      <th>3</th>\n",
       "      <td>4.6</td>\n",
       "      <td>3.1</td>\n",
       "      <td>1.5</td>\n",
       "      <td>0.2</td>\n",
       "      <td>Iris-setosa</td>\n",
       "    </tr>\n",
       "    <tr>\n",
       "      <th>4</th>\n",
       "      <td>5.0</td>\n",
       "      <td>3.6</td>\n",
       "      <td>1.4</td>\n",
       "      <td>0.2</td>\n",
       "      <td>Iris-setosa</td>\n",
       "    </tr>\n",
       "  </tbody>\n",
       "</table>\n",
       "</div>"
      ],
      "text/plain": [
       "   sepal_length  sepal_width  petal_length  petal_width        label\n",
       "0           5.1          3.5           1.4          0.2  Iris-setosa\n",
       "1           4.9          3.0           1.4          0.2  Iris-setosa\n",
       "2           4.7          3.2           1.3          0.2  Iris-setosa\n",
       "3           4.6          3.1           1.5          0.2  Iris-setosa\n",
       "4           5.0          3.6           1.4          0.2  Iris-setosa"
      ]
     },
     "execution_count": 2,
     "metadata": {},
     "output_type": "execute_result"
    }
   ],
   "source": [
    "df = pd.read_csv('iris.csv')\n",
    "df.drop('Id', axis = 1, inplace = True)\n",
    "df = df.rename(columns = {'species':'label'})\n",
    "df.head()"
   ]
  },
  {
   "cell_type": "markdown",
   "metadata": {},
   "source": [
    "### Split data into Train and Test dataset"
   ]
  },
  {
   "cell_type": "code",
   "execution_count": 3,
   "metadata": {},
   "outputs": [],
   "source": [
    "def train_test_split(df,test_size):\n",
    "    \n",
    "    if isinstance(test_size, float):\n",
    "        test_size = round(test_size * len(df))\n",
    "    \n",
    "    indices = random.sample(df.index.tolist(),test_size)\n",
    "\n",
    "    test_df = df.loc[indices]\n",
    "    train_df = df.drop(indices)\n",
    "    \n",
    "    return train_df,test_df"
   ]
  },
  {
   "cell_type": "code",
   "execution_count": 4,
   "metadata": {},
   "outputs": [],
   "source": [
    "random.seed(0)\n",
    "train_df , test_df = train_test_split(df,0.1)"
   ]
  },
  {
   "cell_type": "markdown",
   "metadata": {},
   "source": [
    "### Check Purity"
   ]
  },
  {
   "cell_type": "code",
   "execution_count": 5,
   "metadata": {},
   "outputs": [],
   "source": [
    "def check_purity(data):\n",
    "    \n",
    "    # check for unique class label\n",
    "    labels = data[:,-1]\n",
    "    unique_label_column = np.unique(labels)\n",
    "    if len(unique_label_column) == 1:\n",
    "        return True\n",
    "    else:\n",
    "        return False"
   ]
  },
  {
   "cell_type": "markdown",
   "metadata": {},
   "source": [
    "### Create Leaf"
   ]
  },
  {
   "cell_type": "code",
   "execution_count": 6,
   "metadata": {},
   "outputs": [],
   "source": [
    "def create_leaf(data, ml_task):\n",
    "    #Gives target labels as it is the last column in data\n",
    "    labels = data[:,-1]\n",
    "    #regression\n",
    "    if ml_task == 'regression':\n",
    "        leaf = np.mean(labels)\n",
    "    #classification\n",
    "    else:\n",
    "        #returns the class which is unique\n",
    "        classes,count_classes = np.unique(labels, return_counts=True)\n",
    "        index = count_classes.argmax()\n",
    "        leaf = classes[index]\n",
    "\n",
    "    return leaf"
   ]
  },
  {
   "cell_type": "markdown",
   "metadata": {},
   "source": [
    "### Potential Splits"
   ]
  },
  {
   "cell_type": "code",
   "execution_count": 7,
   "metadata": {},
   "outputs": [],
   "source": [
    "def get_potential_splits(data):\n",
    "    _,n_columns = data.shape\n",
    "    potential_splits = {}\n",
    "    #For every column, we have check for potential splits\n",
    "    for column_index in range(n_columns-1):\n",
    "        values = data[:,column_index]\n",
    "        unique_values = np.unique(values)\n",
    "        \n",
    "        type_feature = FEATURE_TYPE[column_index]\n",
    "        #For continuous features, potential splits will be middle value of 2 unique data points\n",
    "        if type_feature == 'continuous': \n",
    "            potential_splits[column_index] = []\n",
    "            for index in range(1,len(unique_values)):\n",
    "                current_value = unique_values[index]\n",
    "                prev_value = unique_values[index-1]\n",
    "                potential_split = (current_value + prev_value)/2\n",
    "\n",
    "                potential_splits[column_index].append(potential_split)\n",
    "        #For discrete features, potential splits will be unique data points\n",
    "        elif len(unique_values)>1:\n",
    "            potential_splits[column_index] = unique_values\n",
    "\n",
    "    return potential_splits"
   ]
  },
  {
   "cell_type": "markdown",
   "metadata": {},
   "source": [
    "### Determinr Type of Fetaure"
   ]
  },
  {
   "cell_type": "code",
   "execution_count": 8,
   "metadata": {},
   "outputs": [],
   "source": [
    "def detemine_type_of_feature(df):\n",
    "    \n",
    "    #determine whether the type of feature is categorical or continuous\n",
    "    feature_type = []\n",
    "    unique_value_threshold = 15\n",
    "    for column in df.columns:\n",
    "        if column != \"label\":\n",
    "            unique_values = df[column].unique()        \n",
    "            example_value = unique_values[0]\n",
    "            #Checking if the value is string or has occured limited times\n",
    "            if (isinstance(example_value, str)) or (len(unique_values) <= unique_value_threshold):\n",
    "                feature_type.append('categorical')\n",
    "            else:\n",
    "                feature_type.append('continuous')\n",
    "                \n",
    "    return feature_type"
   ]
  },
  {
   "cell_type": "markdown",
   "metadata": {},
   "source": [
    "### Split data"
   ]
  },
  {
   "cell_type": "code",
   "execution_count": 9,
   "metadata": {},
   "outputs": [],
   "source": [
    "def split_data(data, split_column , split_value):\n",
    "    \n",
    "    split_column_value = data[:,split_column]\n",
    "    type_feature = FEATURE_TYPE[split_column]\n",
    "    \n",
    "    #For continuous values\n",
    "    if type_feature == 'continuous':    \n",
    "        data_below = data[split_column_value <= split_value]\n",
    "        data_above = data[split_column_value > split_value]\n",
    "    #For discrete values\n",
    "    else:\n",
    "        data_below = data[split_column_value == split_value]\n",
    "        data_above = data[split_column_value != split_value]\n",
    "    \n",
    "    return data_below, data_above"
   ]
  },
  {
   "cell_type": "markdown",
   "metadata": {},
   "source": [
    "### Determine Best Split"
   ]
  },
  {
   "cell_type": "code",
   "execution_count": 10,
   "metadata": {},
   "outputs": [],
   "source": [
    "#Calculate mean squared error\n",
    "def calculate_mse(data):\n",
    "    actual_values = data[:,-1]\n",
    "    if len(actual_values) == 0:\n",
    "        mse = 0\n",
    "    else:\n",
    "        pred_values = np.mean(actual_values)\n",
    "        mse = np.mean((actual_values - pred_values)**2)\n",
    "#     print(mse , mse)\n",
    "    return mse"
   ]
  },
  {
   "cell_type": "code",
   "execution_count": 11,
   "metadata": {},
   "outputs": [],
   "source": [
    "#Calculate Entropy\n",
    "def calculate_entropy(data):\n",
    "    labels = data[:,-1]\n",
    "    unique_clases , count_classes = np.unique(labels,return_counts=True)\n",
    "    prob = count_classes/count_classes.sum()\n",
    "    \n",
    "    entropy = sum(prob * -np.log2(prob))\n",
    "    \n",
    "    return entropy"
   ]
  },
  {
   "cell_type": "code",
   "execution_count": 12,
   "metadata": {},
   "outputs": [],
   "source": [
    "#Calculate Gini Impurity\n",
    "def calculate_gini(data):\n",
    "    labels = data[:,-1]\n",
    "    unique_clases , count_classes = np.unique(labels,return_counts=True)\n",
    "    prob = count_classes/count_classes.sum()\n",
    "\n",
    "#     entropy = sum(prob * -np.log2(prob))\n",
    "    gini = 1-sum((prob) **2)\n",
    "    \n",
    "    return gini"
   ]
  },
  {
   "cell_type": "code",
   "execution_count": 13,
   "metadata": {},
   "outputs": [],
   "source": [
    "#Calculate overall_metric\n",
    "def calculate_overall_metric(data_below, data_above, metric_function):\n",
    "    \n",
    "    total_data_points = len(data_below) + len(data_above)\n",
    "    p_data_below = len(data_below)/total_data_points\n",
    "    p_data_above = len(data_above)/total_data_points\n",
    "\n",
    "    overall_metric = (p_data_below * metric_function(data_below))+ (p_data_above * metric_function(data_above))\n",
    "    \n",
    "    return overall_metric"
   ]
  },
  {
   "cell_type": "code",
   "execution_count": 14,
   "metadata": {},
   "outputs": [],
   "source": [
    "#Calculate best split parameter on the basis of overall metric\n",
    "def determine_best_split(data, potential_splits, ml_task):\n",
    "    first_iteration = True\n",
    "    potential_splits = get_potential_splits(data)\n",
    "    #For every key and value in potential splits,calculate overall_metric\n",
    "    for index in potential_splits:\n",
    "        for value in potential_splits[index]:\n",
    "            data_below, data_above = split_data(data, index , value)\n",
    "            #Regression\n",
    "            if(ml_task == 'regression'):\n",
    "                current_overall_metric = calculate_overall_metric(data_below,data_above, metric_function = calculate_mse)\n",
    "            #Classification\n",
    "            else:\n",
    "                current_overall_metric = calculate_overall_metric(data_below,data_above, metric_function = calculate_gini)\n",
    "            \n",
    "            #Selecting best split column and best split value\n",
    "            if first_iteration or current_overall_metric <= best_overall_metric:\n",
    "                first_iteration = False\n",
    "                best_overall_metric = current_overall_metric\n",
    "                best_split_column = index\n",
    "                best_split_value = value\n",
    "    \n",
    "    return best_split_column , best_split_value"
   ]
  },
  {
   "cell_type": "markdown",
   "metadata": {},
   "source": [
    "### Decision Tree"
   ]
  },
  {
   "cell_type": "code",
   "execution_count": 15,
   "metadata": {},
   "outputs": [],
   "source": [
    "def decision_tree(df, ml_task, counter = 0, min_samples = 2, max_depth = 5):\n",
    "    \n",
    "    #Converting Dataframe into Numpy array for first iteration(counter==0)\n",
    "    if counter == 0:\n",
    "        global COLUMN_NAMES, FEATURE_TYPE\n",
    "        COLUMN_NAMES = df.columns\n",
    "        FEATURE_TYPE = detemine_type_of_feature(df)\n",
    "        data = df.values\n",
    "    #For any other iterations,it will be a Numpy array only\n",
    "    else :\n",
    "        data = df\n",
    "        \n",
    "    #Base Cases\n",
    "    if(check_purity(data)) or (len(data) < min_samples) or (max_depth == counter):\n",
    "        leaf  = create_leaf(data, ml_task)\n",
    "        return leaf\n",
    "    else:\n",
    "        counter+=1\n",
    "        \n",
    "        #Helper functions\n",
    "        potential_splits = get_potential_splits(data)\n",
    "        split_column,split_value = determine_best_split(data, potential_splits, ml_task)\n",
    "        data_below,data_above = split_data(data, split_column, split_value)\n",
    "        \n",
    "        # check for empty data\n",
    "        if len(data_below) == 0 or len(data_above) == 0:\n",
    "            leaf = create_leaf(data , ml_task)\n",
    "            return leaf\n",
    "        \n",
    "        feature_name = COLUMN_NAMES[split_column]\n",
    "        subtree = {}\n",
    "        type_feature = FEATURE_TYPE[split_column]\n",
    "        #For continuous values\n",
    "        if type_feature == 'continuous':\n",
    "            question = \"{} <= {}\".format(feature_name,split_value)\n",
    "        #For discrete values\n",
    "        else:\n",
    "            question = \"{} == {}\".format(feature_name,split_value)\n",
    "            \n",
    "        #Creating tree in the dictinary format {question:[yes_answer, no_answer]}\n",
    "        subtree= {question: []}\n",
    "        \n",
    "        #Recursion on Sub-trees yes_answer and no_answer\n",
    "        yes_answer = decision_tree(data_below, ml_task, counter, min_samples, max_depth)\n",
    "        no_answer = decision_tree(data_above, ml_task, counter, min_samples , max_depth)\n",
    "        \n",
    "        if(yes_answer == no_answer):\n",
    "            subtree = yes_answer\n",
    "        else:\n",
    "            subtree[question].append(yes_answer)\n",
    "            subtree[question].append(no_answer)\n",
    "            \n",
    "        return subtree"
   ]
  },
  {
   "cell_type": "code",
   "execution_count": 16,
   "metadata": {},
   "outputs": [
    {
     "name": "stdout",
     "output_type": "stream",
     "text": [
      "{'petal_width <= 0.8': ['Iris-setosa',\n",
      "                        {'petal_width <= 1.65': [{'petal_length <= 4.95': ['Iris-versicolor',\n",
      "                                                                           'Iris-virginica']},\n",
      "                                                 'Iris-virginica']}]}\n"
     ]
    }
   ],
   "source": [
    "tree = decision_tree(train_df, ml_task = 'classification',max_depth=3)\n",
    "pprint(tree)\n"
   ]
  },
  {
   "cell_type": "markdown",
   "metadata": {},
   "source": [
    "### Prediction"
   ]
  },
  {
   "cell_type": "code",
   "execution_count": 17,
   "metadata": {},
   "outputs": [],
   "source": [
    "# Using the trained tree, predicting the output class\n",
    "def predict_example(example, tree):\n",
    "    \n",
    "    question = list(tree.keys())[0]\n",
    "    column_name , operator , value = question.split(\" \")\n",
    "    #For Continuous Features, operator will be \"<=\"\n",
    "    if(operator == \"<=\"):\n",
    "        if example[column_name] <= float(value):\n",
    "            answer = tree[question][0]\n",
    "        else:\n",
    "            answer = tree[question][1]\n",
    "    #For Discrete Features, operator will be \"==\"\n",
    "    else:\n",
    "        if str(example[column_name]) == value:\n",
    "            answer = tree[question][0]\n",
    "        else:\n",
    "            answer = tree[question][1]\n",
    "        \n",
    "    if not isinstance(answer , dict):\n",
    "        return answer\n",
    "    else:\n",
    "        residual_tree = answer\n",
    "        return predict_example(example, residual_tree)"
   ]
  },
  {
   "cell_type": "code",
   "execution_count": 18,
   "metadata": {},
   "outputs": [
    {
     "data": {
      "text/html": [
       "<div>\n",
       "<style scoped>\n",
       "    .dataframe tbody tr th:only-of-type {\n",
       "        vertical-align: middle;\n",
       "    }\n",
       "\n",
       "    .dataframe tbody tr th {\n",
       "        vertical-align: top;\n",
       "    }\n",
       "\n",
       "    .dataframe thead th {\n",
       "        text-align: right;\n",
       "    }\n",
       "</style>\n",
       "<table border=\"1\" class=\"dataframe\">\n",
       "  <thead>\n",
       "    <tr style=\"text-align: right;\">\n",
       "      <th></th>\n",
       "      <th>sepal_length</th>\n",
       "      <th>sepal_width</th>\n",
       "      <th>petal_length</th>\n",
       "      <th>petal_width</th>\n",
       "      <th>label</th>\n",
       "    </tr>\n",
       "  </thead>\n",
       "  <tbody>\n",
       "    <tr>\n",
       "      <th>98</th>\n",
       "      <td>5.1</td>\n",
       "      <td>2.5</td>\n",
       "      <td>3.0</td>\n",
       "      <td>1.1</td>\n",
       "      <td>Iris-versicolor</td>\n",
       "    </tr>\n",
       "    <tr>\n",
       "      <th>107</th>\n",
       "      <td>7.3</td>\n",
       "      <td>2.9</td>\n",
       "      <td>6.3</td>\n",
       "      <td>1.8</td>\n",
       "      <td>Iris-virginica</td>\n",
       "    </tr>\n",
       "    <tr>\n",
       "      <th>10</th>\n",
       "      <td>5.4</td>\n",
       "      <td>3.7</td>\n",
       "      <td>1.5</td>\n",
       "      <td>0.2</td>\n",
       "      <td>Iris-setosa</td>\n",
       "    </tr>\n",
       "    <tr>\n",
       "      <th>66</th>\n",
       "      <td>5.6</td>\n",
       "      <td>3.0</td>\n",
       "      <td>4.5</td>\n",
       "      <td>1.5</td>\n",
       "      <td>Iris-versicolor</td>\n",
       "    </tr>\n",
       "    <tr>\n",
       "      <th>130</th>\n",
       "      <td>7.4</td>\n",
       "      <td>2.8</td>\n",
       "      <td>6.1</td>\n",
       "      <td>1.9</td>\n",
       "      <td>Iris-virginica</td>\n",
       "    </tr>\n",
       "  </tbody>\n",
       "</table>\n",
       "</div>"
      ],
      "text/plain": [
       "     sepal_length  sepal_width  petal_length  petal_width            label\n",
       "98            5.1          2.5           3.0          1.1  Iris-versicolor\n",
       "107           7.3          2.9           6.3          1.8   Iris-virginica\n",
       "10            5.4          3.7           1.5          0.2      Iris-setosa\n",
       "66            5.6          3.0           4.5          1.5  Iris-versicolor\n",
       "130           7.4          2.8           6.1          1.9   Iris-virginica"
      ]
     },
     "execution_count": 18,
     "metadata": {},
     "output_type": "execute_result"
    }
   ],
   "source": [
    "test_df.head()"
   ]
  },
  {
   "cell_type": "code",
   "execution_count": 19,
   "metadata": {},
   "outputs": [
    {
     "data": {
      "text/plain": [
       "sepal_length                5.1\n",
       "sepal_width                 2.5\n",
       "petal_length                  3\n",
       "petal_width                 1.1\n",
       "label           Iris-versicolor\n",
       "Name: 98, dtype: object"
      ]
     },
     "execution_count": 19,
     "metadata": {},
     "output_type": "execute_result"
    }
   ],
   "source": [
    "example = test_df.iloc[0]\n",
    "example"
   ]
  },
  {
   "cell_type": "code",
   "execution_count": 20,
   "metadata": {},
   "outputs": [
    {
     "data": {
      "text/plain": [
       "'Iris-versicolor'"
      ]
     },
     "execution_count": 20,
     "metadata": {},
     "output_type": "execute_result"
    }
   ],
   "source": [
    "predict_example(example, tree)"
   ]
  },
  {
   "cell_type": "markdown",
   "metadata": {},
   "source": [
    "### Accuracy"
   ]
  },
  {
   "cell_type": "code",
   "execution_count": 21,
   "metadata": {},
   "outputs": [],
   "source": [
    "#For classification\n",
    "def calculate_accuracy(df, tree):\n",
    "    \n",
    "    df['prediction'] = df.apply(predict_example , axis = 1 , args = (tree , ))\n",
    "    df['prediction_correct'] = df.prediction == df.label\n",
    "    accuracy = df.prediction_correct.mean()\n",
    "    \n",
    "    return accuracy"
   ]
  },
  {
   "cell_type": "code",
   "execution_count": 22,
   "metadata": {},
   "outputs": [],
   "source": [
    "#For Regression, R-squared metric is used\n",
    "def calculate_rsquared(df, tree):\n",
    "    labels = df.label\n",
    "    mean = labels.mean()\n",
    "    prediction = df.apply(predict_example , axis = 1 , args = (tree , ))\n",
    "    \n",
    "    ss_res = sum((labels - prediction)**2)\n",
    "    ss_tot = sum((labels - mean) ** 2)\n",
    "    rsquared = 1- ss_res / ss_tot\n",
    "        \n",
    "    return rsquared"
   ]
  },
  {
   "cell_type": "code",
   "execution_count": 23,
   "metadata": {},
   "outputs": [
    {
     "data": {
      "text/plain": [
       "0.9333333333333333"
      ]
     },
     "execution_count": 23,
     "metadata": {},
     "output_type": "execute_result"
    }
   ],
   "source": [
    "calculate_accuracy(test_df, tree)"
   ]
  },
  {
   "cell_type": "code",
   "execution_count": 25,
   "metadata": {},
   "outputs": [
    {
     "name": "stdout",
     "output_type": "stream",
     "text": [
      "Tree built by the algorithm =\n",
      "{'petal_width <= 0.8': ['Iris-setosa',\n",
      "                        {'petal_width <= 1.75': [{'petal_length <= 4.95': [{'petal_width <= 1.65': ['Iris-versicolor',\n",
      "                                                                                                    'Iris-virginica']},\n",
      "                                                                           {'petal_width <= 1.55': ['Iris-virginica',\n",
      "                                                                                                    'Iris-versicolor']}]},\n",
      "                                                 {'petal_length <= 4.85': [{'sepal_width <= 3.1': ['Iris-virginica',\n",
      "                                                                                                   'Iris-versicolor']},\n",
      "                                                                           'Iris-virginica']}]}]}\n",
      "Accuracy = 1.0\n"
     ]
    }
   ],
   "source": [
    "train_df , test_df = train_test_split(df, test_size=0.2)\n",
    "tree = decision_tree(train_df,ml_task = 'classification', max_depth=4)\n",
    "accuracy = calculate_accuracy(test_df , tree)\n",
    "print('Tree built by the algorithm =')\n",
    "pprint(tree)\n",
    "print(\"Accuracy =\",accuracy)"
   ]
  },
  {
   "cell_type": "markdown",
   "metadata": {},
   "source": [
    "## Titanic dataset"
   ]
  },
  {
   "cell_type": "code",
   "execution_count": 26,
   "metadata": {},
   "outputs": [
    {
     "data": {
      "text/html": [
       "<div>\n",
       "<style scoped>\n",
       "    .dataframe tbody tr th:only-of-type {\n",
       "        vertical-align: middle;\n",
       "    }\n",
       "\n",
       "    .dataframe tbody tr th {\n",
       "        vertical-align: top;\n",
       "    }\n",
       "\n",
       "    .dataframe thead th {\n",
       "        text-align: right;\n",
       "    }\n",
       "</style>\n",
       "<table border=\"1\" class=\"dataframe\">\n",
       "  <thead>\n",
       "    <tr style=\"text-align: right;\">\n",
       "      <th></th>\n",
       "      <th>Pclass</th>\n",
       "      <th>Sex</th>\n",
       "      <th>Age</th>\n",
       "      <th>SibSp</th>\n",
       "      <th>Parch</th>\n",
       "      <th>Fare</th>\n",
       "      <th>Embarked</th>\n",
       "      <th>label</th>\n",
       "    </tr>\n",
       "  </thead>\n",
       "  <tbody>\n",
       "    <tr>\n",
       "      <th>0</th>\n",
       "      <td>3</td>\n",
       "      <td>male</td>\n",
       "      <td>22.0</td>\n",
       "      <td>1</td>\n",
       "      <td>0</td>\n",
       "      <td>7.2500</td>\n",
       "      <td>S</td>\n",
       "      <td>0</td>\n",
       "    </tr>\n",
       "    <tr>\n",
       "      <th>1</th>\n",
       "      <td>1</td>\n",
       "      <td>female</td>\n",
       "      <td>38.0</td>\n",
       "      <td>1</td>\n",
       "      <td>0</td>\n",
       "      <td>71.2833</td>\n",
       "      <td>C</td>\n",
       "      <td>1</td>\n",
       "    </tr>\n",
       "    <tr>\n",
       "      <th>2</th>\n",
       "      <td>3</td>\n",
       "      <td>female</td>\n",
       "      <td>26.0</td>\n",
       "      <td>0</td>\n",
       "      <td>0</td>\n",
       "      <td>7.9250</td>\n",
       "      <td>S</td>\n",
       "      <td>1</td>\n",
       "    </tr>\n",
       "    <tr>\n",
       "      <th>3</th>\n",
       "      <td>1</td>\n",
       "      <td>female</td>\n",
       "      <td>35.0</td>\n",
       "      <td>1</td>\n",
       "      <td>0</td>\n",
       "      <td>53.1000</td>\n",
       "      <td>S</td>\n",
       "      <td>1</td>\n",
       "    </tr>\n",
       "    <tr>\n",
       "      <th>4</th>\n",
       "      <td>3</td>\n",
       "      <td>male</td>\n",
       "      <td>35.0</td>\n",
       "      <td>0</td>\n",
       "      <td>0</td>\n",
       "      <td>8.0500</td>\n",
       "      <td>S</td>\n",
       "      <td>0</td>\n",
       "    </tr>\n",
       "  </tbody>\n",
       "</table>\n",
       "</div>"
      ],
      "text/plain": [
       "   Pclass     Sex   Age  SibSp  Parch     Fare Embarked  label\n",
       "0       3    male  22.0      1      0   7.2500        S      0\n",
       "1       1  female  38.0      1      0  71.2833        C      1\n",
       "2       3  female  26.0      0      0   7.9250        S      1\n",
       "3       1  female  35.0      1      0  53.1000        S      1\n",
       "4       3    male  35.0      0      0   8.0500        S      0"
      ]
     },
     "execution_count": 26,
     "metadata": {},
     "output_type": "execute_result"
    }
   ],
   "source": [
    "df = pd.read_csv('titanic.csv')\n",
    "df['label'] = df['Survived']\n",
    "df.drop(['PassengerId', 'Name','Ticket', 'Survived','Cabin'], axis = 1, inplace = True)\\\n",
    "\n",
    "median_age = df.Age.median()\n",
    "mode_embarked = df.Embarked.mode()[0]\n",
    "df = df.fillna({'Age': median_age , 'Embarked':mode_embarked})\n",
    "\n",
    "df.head()"
   ]
  },
  {
   "cell_type": "markdown",
   "metadata": {},
   "source": [
    "### Decision Tree"
   ]
  },
  {
   "cell_type": "code",
   "execution_count": 27,
   "metadata": {},
   "outputs": [
    {
     "name": "stdout",
     "output_type": "stream",
     "text": [
      "{'Sex == male': [{'Fare <= 26.26875': [{'Age <= 13.5': [1, 0]},\n",
      "                                       {'Fare <= 26.46875': [1, 0]}]},\n",
      "                 {'Pclass == 3': [{'Fare <= 23.35': [1, 0]}, 1]}]}\n"
     ]
    },
    {
     "data": {
      "text/plain": [
       "0.8202247191011236"
      ]
     },
     "execution_count": 27,
     "metadata": {},
     "output_type": "execute_result"
    }
   ],
   "source": [
    "train_df , test_df = train_test_split(df, test_size=0.2)\n",
    "tree = decision_tree(train_df,ml_task = 'classification', max_depth=3)\n",
    "accuracy = calculate_accuracy(test_df , tree)\n",
    "pprint(tree)\n",
    "accuracy"
   ]
  },
  {
   "cell_type": "markdown",
   "metadata": {},
   "source": [
    "### Regression"
   ]
  },
  {
   "cell_type": "code",
   "execution_count": 28,
   "metadata": {},
   "outputs": [],
   "source": [
    "df = pd.read_csv(\"Bike.csv\", parse_dates=[\"dteday\"])\n",
    "df = df.drop([\"instant\", \"casual\", \"registered\"], axis=1)\n",
    "df = df.rename({\"dteday\": \"date\"}, axis=1)"
   ]
  },
  {
   "cell_type": "code",
   "execution_count": 29,
   "metadata": {},
   "outputs": [
    {
     "data": {
      "text/html": [
       "<div>\n",
       "<style scoped>\n",
       "    .dataframe tbody tr th:only-of-type {\n",
       "        vertical-align: middle;\n",
       "    }\n",
       "\n",
       "    .dataframe tbody tr th {\n",
       "        vertical-align: top;\n",
       "    }\n",
       "\n",
       "    .dataframe thead th {\n",
       "        text-align: right;\n",
       "    }\n",
       "</style>\n",
       "<table border=\"1\" class=\"dataframe\">\n",
       "  <thead>\n",
       "    <tr style=\"text-align: right;\">\n",
       "      <th></th>\n",
       "      <th>date</th>\n",
       "      <th>season</th>\n",
       "      <th>yr</th>\n",
       "      <th>mnth</th>\n",
       "      <th>holiday</th>\n",
       "      <th>weekday</th>\n",
       "      <th>workingday</th>\n",
       "      <th>weathersit</th>\n",
       "      <th>temp</th>\n",
       "      <th>atemp</th>\n",
       "      <th>hum</th>\n",
       "      <th>windspeed</th>\n",
       "      <th>cnt</th>\n",
       "    </tr>\n",
       "  </thead>\n",
       "  <tbody>\n",
       "    <tr>\n",
       "      <th>0</th>\n",
       "      <td>2011-01-01</td>\n",
       "      <td>1</td>\n",
       "      <td>0</td>\n",
       "      <td>1</td>\n",
       "      <td>0</td>\n",
       "      <td>6</td>\n",
       "      <td>0</td>\n",
       "      <td>2</td>\n",
       "      <td>0.344167</td>\n",
       "      <td>0.363625</td>\n",
       "      <td>0.805833</td>\n",
       "      <td>0.160446</td>\n",
       "      <td>985</td>\n",
       "    </tr>\n",
       "    <tr>\n",
       "      <th>1</th>\n",
       "      <td>2011-01-02</td>\n",
       "      <td>1</td>\n",
       "      <td>0</td>\n",
       "      <td>1</td>\n",
       "      <td>0</td>\n",
       "      <td>0</td>\n",
       "      <td>0</td>\n",
       "      <td>2</td>\n",
       "      <td>0.363478</td>\n",
       "      <td>0.353739</td>\n",
       "      <td>0.696087</td>\n",
       "      <td>0.248539</td>\n",
       "      <td>801</td>\n",
       "    </tr>\n",
       "    <tr>\n",
       "      <th>2</th>\n",
       "      <td>2011-01-03</td>\n",
       "      <td>1</td>\n",
       "      <td>0</td>\n",
       "      <td>1</td>\n",
       "      <td>0</td>\n",
       "      <td>1</td>\n",
       "      <td>1</td>\n",
       "      <td>1</td>\n",
       "      <td>0.196364</td>\n",
       "      <td>0.189405</td>\n",
       "      <td>0.437273</td>\n",
       "      <td>0.248309</td>\n",
       "      <td>1349</td>\n",
       "    </tr>\n",
       "    <tr>\n",
       "      <th>3</th>\n",
       "      <td>2011-01-04</td>\n",
       "      <td>1</td>\n",
       "      <td>0</td>\n",
       "      <td>1</td>\n",
       "      <td>0</td>\n",
       "      <td>2</td>\n",
       "      <td>1</td>\n",
       "      <td>1</td>\n",
       "      <td>0.200000</td>\n",
       "      <td>0.212122</td>\n",
       "      <td>0.590435</td>\n",
       "      <td>0.160296</td>\n",
       "      <td>1562</td>\n",
       "    </tr>\n",
       "    <tr>\n",
       "      <th>4</th>\n",
       "      <td>2011-01-05</td>\n",
       "      <td>1</td>\n",
       "      <td>0</td>\n",
       "      <td>1</td>\n",
       "      <td>0</td>\n",
       "      <td>3</td>\n",
       "      <td>1</td>\n",
       "      <td>1</td>\n",
       "      <td>0.226957</td>\n",
       "      <td>0.229270</td>\n",
       "      <td>0.436957</td>\n",
       "      <td>0.186900</td>\n",
       "      <td>1600</td>\n",
       "    </tr>\n",
       "  </tbody>\n",
       "</table>\n",
       "</div>"
      ],
      "text/plain": [
       "        date  season  yr  mnth  holiday  weekday  workingday  weathersit  \\\n",
       "0 2011-01-01       1   0     1        0        6           0           2   \n",
       "1 2011-01-02       1   0     1        0        0           0           2   \n",
       "2 2011-01-03       1   0     1        0        1           1           1   \n",
       "3 2011-01-04       1   0     1        0        2           1           1   \n",
       "4 2011-01-05       1   0     1        0        3           1           1   \n",
       "\n",
       "       temp     atemp       hum  windspeed   cnt  \n",
       "0  0.344167  0.363625  0.805833   0.160446   985  \n",
       "1  0.363478  0.353739  0.696087   0.248539   801  \n",
       "2  0.196364  0.189405  0.437273   0.248309  1349  \n",
       "3  0.200000  0.212122  0.590435   0.160296  1562  \n",
       "4  0.226957  0.229270  0.436957   0.186900  1600  "
      ]
     },
     "execution_count": 29,
     "metadata": {},
     "output_type": "execute_result"
    }
   ],
   "source": [
    "df.head()"
   ]
  },
  {
   "cell_type": "code",
   "execution_count": 30,
   "metadata": {},
   "outputs": [],
   "source": [
    "\n",
    "date_column = df.date\n",
    "\n",
    "df[\"day_of_year\"] = date_column.dt.dayofyear\n",
    "df[\"day_of_month\"] = date_column.dt.day\n",
    "\n",
    "df[\"quarter\"] = date_column.dt.quarter\n",
    "df[\"week\"] = date_column.dt.week\n",
    "\n",
    "df[\"is_month_end\"] = date_column.dt.is_month_end\n",
    "df[\"is_month_start\"] = date_column.dt.is_month_start\n",
    "df[\"is_quarter_end\"] = date_column.dt.is_quarter_end\n",
    "df[\"is_quarter_start\"] = date_column.dt.is_quarter_start\n",
    "df[\"is_year_end\"] = date_column.dt.is_year_end\n",
    "df[\"is_year_start\"] = date_column.dt.is_year_start\n",
    "\n",
    "df = df.set_index(\"date\")"
   ]
  },
  {
   "cell_type": "code",
   "execution_count": 31,
   "metadata": {},
   "outputs": [
    {
     "data": {
      "text/html": [
       "<div>\n",
       "<style scoped>\n",
       "    .dataframe tbody tr th:only-of-type {\n",
       "        vertical-align: middle;\n",
       "    }\n",
       "\n",
       "    .dataframe tbody tr th {\n",
       "        vertical-align: top;\n",
       "    }\n",
       "\n",
       "    .dataframe thead th {\n",
       "        text-align: right;\n",
       "    }\n",
       "</style>\n",
       "<table border=\"1\" class=\"dataframe\">\n",
       "  <thead>\n",
       "    <tr style=\"text-align: right;\">\n",
       "      <th></th>\n",
       "      <th>season</th>\n",
       "      <th>yr</th>\n",
       "      <th>mnth</th>\n",
       "      <th>holiday</th>\n",
       "      <th>weekday</th>\n",
       "      <th>workingday</th>\n",
       "      <th>weathersit</th>\n",
       "      <th>temp</th>\n",
       "      <th>atemp</th>\n",
       "      <th>hum</th>\n",
       "      <th>...</th>\n",
       "      <th>day_of_month</th>\n",
       "      <th>quarter</th>\n",
       "      <th>week</th>\n",
       "      <th>is_month_end</th>\n",
       "      <th>is_month_start</th>\n",
       "      <th>is_quarter_end</th>\n",
       "      <th>is_quarter_start</th>\n",
       "      <th>is_year_end</th>\n",
       "      <th>is_year_start</th>\n",
       "      <th>label</th>\n",
       "    </tr>\n",
       "    <tr>\n",
       "      <th>date</th>\n",
       "      <th></th>\n",
       "      <th></th>\n",
       "      <th></th>\n",
       "      <th></th>\n",
       "      <th></th>\n",
       "      <th></th>\n",
       "      <th></th>\n",
       "      <th></th>\n",
       "      <th></th>\n",
       "      <th></th>\n",
       "      <th></th>\n",
       "      <th></th>\n",
       "      <th></th>\n",
       "      <th></th>\n",
       "      <th></th>\n",
       "      <th></th>\n",
       "      <th></th>\n",
       "      <th></th>\n",
       "      <th></th>\n",
       "      <th></th>\n",
       "      <th></th>\n",
       "    </tr>\n",
       "  </thead>\n",
       "  <tbody>\n",
       "    <tr>\n",
       "      <th>2011-01-01</th>\n",
       "      <td>1</td>\n",
       "      <td>0</td>\n",
       "      <td>1</td>\n",
       "      <td>0</td>\n",
       "      <td>6</td>\n",
       "      <td>0</td>\n",
       "      <td>2</td>\n",
       "      <td>0.344167</td>\n",
       "      <td>0.363625</td>\n",
       "      <td>0.805833</td>\n",
       "      <td>...</td>\n",
       "      <td>1</td>\n",
       "      <td>1</td>\n",
       "      <td>52</td>\n",
       "      <td>False</td>\n",
       "      <td>True</td>\n",
       "      <td>False</td>\n",
       "      <td>True</td>\n",
       "      <td>False</td>\n",
       "      <td>True</td>\n",
       "      <td>985</td>\n",
       "    </tr>\n",
       "    <tr>\n",
       "      <th>2011-01-02</th>\n",
       "      <td>1</td>\n",
       "      <td>0</td>\n",
       "      <td>1</td>\n",
       "      <td>0</td>\n",
       "      <td>0</td>\n",
       "      <td>0</td>\n",
       "      <td>2</td>\n",
       "      <td>0.363478</td>\n",
       "      <td>0.353739</td>\n",
       "      <td>0.696087</td>\n",
       "      <td>...</td>\n",
       "      <td>2</td>\n",
       "      <td>1</td>\n",
       "      <td>52</td>\n",
       "      <td>False</td>\n",
       "      <td>False</td>\n",
       "      <td>False</td>\n",
       "      <td>False</td>\n",
       "      <td>False</td>\n",
       "      <td>False</td>\n",
       "      <td>801</td>\n",
       "    </tr>\n",
       "    <tr>\n",
       "      <th>2011-01-03</th>\n",
       "      <td>1</td>\n",
       "      <td>0</td>\n",
       "      <td>1</td>\n",
       "      <td>0</td>\n",
       "      <td>1</td>\n",
       "      <td>1</td>\n",
       "      <td>1</td>\n",
       "      <td>0.196364</td>\n",
       "      <td>0.189405</td>\n",
       "      <td>0.437273</td>\n",
       "      <td>...</td>\n",
       "      <td>3</td>\n",
       "      <td>1</td>\n",
       "      <td>1</td>\n",
       "      <td>False</td>\n",
       "      <td>False</td>\n",
       "      <td>False</td>\n",
       "      <td>False</td>\n",
       "      <td>False</td>\n",
       "      <td>False</td>\n",
       "      <td>1349</td>\n",
       "    </tr>\n",
       "    <tr>\n",
       "      <th>2011-01-04</th>\n",
       "      <td>1</td>\n",
       "      <td>0</td>\n",
       "      <td>1</td>\n",
       "      <td>0</td>\n",
       "      <td>2</td>\n",
       "      <td>1</td>\n",
       "      <td>1</td>\n",
       "      <td>0.200000</td>\n",
       "      <td>0.212122</td>\n",
       "      <td>0.590435</td>\n",
       "      <td>...</td>\n",
       "      <td>4</td>\n",
       "      <td>1</td>\n",
       "      <td>1</td>\n",
       "      <td>False</td>\n",
       "      <td>False</td>\n",
       "      <td>False</td>\n",
       "      <td>False</td>\n",
       "      <td>False</td>\n",
       "      <td>False</td>\n",
       "      <td>1562</td>\n",
       "    </tr>\n",
       "    <tr>\n",
       "      <th>2011-01-05</th>\n",
       "      <td>1</td>\n",
       "      <td>0</td>\n",
       "      <td>1</td>\n",
       "      <td>0</td>\n",
       "      <td>3</td>\n",
       "      <td>1</td>\n",
       "      <td>1</td>\n",
       "      <td>0.226957</td>\n",
       "      <td>0.229270</td>\n",
       "      <td>0.436957</td>\n",
       "      <td>...</td>\n",
       "      <td>5</td>\n",
       "      <td>1</td>\n",
       "      <td>1</td>\n",
       "      <td>False</td>\n",
       "      <td>False</td>\n",
       "      <td>False</td>\n",
       "      <td>False</td>\n",
       "      <td>False</td>\n",
       "      <td>False</td>\n",
       "      <td>1600</td>\n",
       "    </tr>\n",
       "  </tbody>\n",
       "</table>\n",
       "<p>5 rows × 22 columns</p>\n",
       "</div>"
      ],
      "text/plain": [
       "            season  yr  mnth  holiday  weekday  workingday  weathersit  \\\n",
       "date                                                                     \n",
       "2011-01-01       1   0     1        0        6           0           2   \n",
       "2011-01-02       1   0     1        0        0           0           2   \n",
       "2011-01-03       1   0     1        0        1           1           1   \n",
       "2011-01-04       1   0     1        0        2           1           1   \n",
       "2011-01-05       1   0     1        0        3           1           1   \n",
       "\n",
       "                temp     atemp       hum  ...  day_of_month  quarter  week  \\\n",
       "date                                      ...                                \n",
       "2011-01-01  0.344167  0.363625  0.805833  ...             1        1    52   \n",
       "2011-01-02  0.363478  0.353739  0.696087  ...             2        1    52   \n",
       "2011-01-03  0.196364  0.189405  0.437273  ...             3        1     1   \n",
       "2011-01-04  0.200000  0.212122  0.590435  ...             4        1     1   \n",
       "2011-01-05  0.226957  0.229270  0.436957  ...             5        1     1   \n",
       "\n",
       "            is_month_end  is_month_start  is_quarter_end  is_quarter_start  \\\n",
       "date                                                                         \n",
       "2011-01-01         False            True           False              True   \n",
       "2011-01-02         False           False           False             False   \n",
       "2011-01-03         False           False           False             False   \n",
       "2011-01-04         False           False           False             False   \n",
       "2011-01-05         False           False           False             False   \n",
       "\n",
       "            is_year_end  is_year_start  label  \n",
       "date                                           \n",
       "2011-01-01        False           True    985  \n",
       "2011-01-02        False          False    801  \n",
       "2011-01-03        False          False   1349  \n",
       "2011-01-04        False          False   1562  \n",
       "2011-01-05        False          False   1600  \n",
       "\n",
       "[5 rows x 22 columns]"
      ]
     },
     "execution_count": 31,
     "metadata": {},
     "output_type": "execute_result"
    }
   ],
   "source": [
    "df[\"label\"] = df.cnt\n",
    "df = df.drop(\"cnt\", axis=1)\n",
    "df.head()"
   ]
  },
  {
   "cell_type": "code",
   "execution_count": 32,
   "metadata": {},
   "outputs": [],
   "source": [
    "\n",
    "train_df = df.iloc[:-122]\n",
    "val_df = df.iloc[-122:-61]  # Sep and Oct of 2012\n",
    "test_df = df.iloc[-61:]     # Nov and Dec of 2012"
   ]
  },
  {
   "cell_type": "code",
   "execution_count": 33,
   "metadata": {},
   "outputs": [
    {
     "data": {
      "text/plain": [
       "array([[1, 0, 1, 0, 6, 0, 2, 0.344167, 0.363625, 0.805833, 0.160446, 1,\n",
       "        1, 1, 52, False, True, False, True, False, True, 985],\n",
       "       [1, 0, 1, 0, 0, 0, 2, 0.363478, 0.35373899999999997, 0.696087,\n",
       "        0.24853899999999998, 2, 2, 1, 52, False, False, False, False,\n",
       "        False, False, 801],\n",
       "       [1, 0, 1, 0, 1, 1, 1, 0.196364, 0.189405, 0.43727299999999997,\n",
       "        0.248309, 3, 3, 1, 1, False, False, False, False, False, False,\n",
       "        1349],\n",
       "       [1, 0, 1, 0, 2, 1, 1, 0.2, 0.21212199999999998, 0.590435,\n",
       "        0.160296, 4, 4, 1, 1, False, False, False, False, False, False,\n",
       "        1562],\n",
       "       [1, 0, 1, 0, 3, 1, 1, 0.22695700000000002, 0.22926999999999997,\n",
       "        0.436957, 0.1869, 5, 5, 1, 1, False, False, False, False, False,\n",
       "        False, 1600]], dtype=object)"
      ]
     },
     "execution_count": 33,
     "metadata": {},
     "output_type": "execute_result"
    }
   ],
   "source": [
    "data = train_df.values[:5]\n",
    "data"
   ]
  },
  {
   "cell_type": "code",
   "execution_count": 34,
   "metadata": {},
   "outputs": [],
   "source": [
    "# train_df , test_df = train_test_split(df, test_size=0.2)"
   ]
  },
  {
   "cell_type": "code",
   "execution_count": 35,
   "metadata": {},
   "outputs": [
    {
     "name": "stdout",
     "output_type": "stream",
     "text": [
      "{'temp <= 0.432373': [{'yr == 1': [{'atemp <= 0.2881895': [{'atemp <= 0.2159125': [2197.4,\n",
      "                                                                                   3091.2272727272725]},\n",
      "                                                           {'hum <= 0.684375': [4423.794117647059,\n",
      "                                                                                3333.1666666666665]}]},\n",
      "                                   {'season == 4': [{'hum <= 0.8547914999999999': [3520.282608695652,\n",
      "                                                                                   979.6666666666666]},\n",
      "                                                    {'day_of_year <= 44.5': [1321.659090909091,\n",
      "                                                                             1978.90625]}]}]},\n",
      "                      {'yr == 1': [{'hum <= 0.771458': [{'temp <= 0.5029165': [5831.869565217391,\n",
      "                                                                               6778.023809523809]},\n",
      "                                                        {'windspeed <= 0.142725': [5841.857142857143,\n",
      "                                                                                   4634.0]}]},\n",
      "                                   {'weathersit == 3': [2320.5,\n",
      "                                                        {'day_of_year <= 109.5': [3062.0714285714284,\n",
      "                                                                                  4473.091397849463]}]}]}]}\n"
     ]
    },
    {
     "data": {
      "text/plain": [
       "0.25399434650156627"
      ]
     },
     "execution_count": 35,
     "metadata": {},
     "output_type": "execute_result"
    }
   ],
   "source": [
    "best_max_depth = 4\n",
    "best_min_samples = 15\n",
    "tree = decision_tree(train_df,ml_task = 'regression', max_depth=best_max_depth, min_samples=best_min_samples)\n",
    "accuracy = calculate_rsquared(test_df , tree)\n",
    "pprint(tree)\n",
    "accuracy"
   ]
  },
  {
   "cell_type": "code",
   "execution_count": 36,
   "metadata": {},
   "outputs": [],
   "source": [
    "def create_plot(df, tree, title):\n",
    "    \n",
    "    predictions = df.apply(predict_example , axis = 1 , args = (tree , ))\n",
    "    actual = df.label\n",
    "    plot_df = pd.DataFrame({'actual':actual , 'prediction':predictions})\n",
    "    \n",
    "    plot_df.plot(figsize = (18,5), title = title)\n",
    "    \n",
    "    return"
   ]
  },
  {
   "cell_type": "code",
   "execution_count": 37,
   "metadata": {},
   "outputs": [
    {
     "data": {
      "image/png": "[encoded data removed]",
      "text/plain": [
       "<Figure size 1296x360 with 1 Axes>"
      ]
     },
     "metadata": {
      "needs_background": "light"
     },
     "output_type": "display_data"
    }
   ],
   "source": [
    "create_plot(train_df, tree, \"Training Predictions\")"
   ]
  },
  {
   "cell_type": "code",
   "execution_count": 38,
   "metadata": {},
   "outputs": [
    {
     "data": {
      "image/png": "[encoded data removed]",
      "text/plain": [
       "<Figure size 1296x360 with 1 Axes>"
      ]
     },
     "metadata": {
      "needs_background": "light"
     },
     "output_type": "display_data"
    }
   ],
   "source": [
    "create_plot(test_df, tree, \"Testing Predictions\")"
   ]
  },
  {
   "cell_type": "code",
   "execution_count": 39,
   "metadata": {},
   "outputs": [
    {
     "data": {
      "image/png": "[encoded data removed]",
      "text/plain": [
       "<Figure size 1296x360 with 1 Axes>"
      ]
     },
     "metadata": {
      "needs_background": "light"
     },
     "output_type": "display_data"
    }
   ],
   "source": [
    "create_plot(val_df, tree, \"Validation Predictions\")"
   ]
  },
  {
   "cell_type": "code",
   "execution_count": null,
   "metadata": {},
   "outputs": [],
   "source": []
  }
 ],
 "metadata": {
  "kernelspec": {
   "display_name": "Python 3",
   "language": "python",
   "name": "python3"
  },
  "language_info": {
   "codemirror_mode": {
    "name": "ipython",
    "version": 3
   },
   "file_extension": ".py",
   "mimetype": "text/x-python",
   "name": "python",
   "nbconvert_exporter": "python",
   "pygments_lexer": "ipython3",
   "version": "3.7.3"
  }
 },
 "nbformat": 4,
 "nbformat_minor": 2
}
